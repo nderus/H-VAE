{
 "cells": [
  {
   "cell_type": "code",
   "execution_count": 1,
   "metadata": {},
   "outputs": [],
   "source": [
    "import os\n",
    "from tensorflow import keras\n",
    "import tensorflow as tf\n",
    "from tensorflow.keras import backend\n",
    "import wandb\n",
    "from wandb.keras import WandbCallback\n",
    "from tensorflow.keras import regularizers\n"
   ]
  },
  {
   "cell_type": "code",
   "execution_count": 2,
   "metadata": {},
   "outputs": [],
   "source": [
    "from encoders import EncoderResNet18, EncoderResNet34, EncoderResNet50, encoderCNN, EncoderMixNet18\n",
    "from decoders import DecoderResNet18, DecoderResNet34, DecoderResNet50, decoderCNN\n",
    "from datasets import data_loader\n",
    "from embeddings import embedding\n",
    "from reconstructions import reconstructions\n",
    "from generations import Generations\n",
    "from activations import VisualizeActivations\n",
    "from gradcam import GradCam\n",
    "from src.CVAE import CVAE\n",
    "\n",
    "# import importlib\n",
    "# importlib.reload(embeddings)\n",
    "# from embeddings import embedding\n",
    "\n",
    "backend.clear_session()"
   ]
  },
  {
   "cell_type": "code",
   "execution_count": 3,
   "metadata": {},
   "outputs": [],
   "source": [
    "# TO DO: this should be passed as arguments\n",
    "dataset_name = 'celeba'\n",
    "model_name = 'CVAE_resnet_l2'\n",
    "encoded_dim = 4096\n",
    "learning_rate = .00005\n",
    "epoch_count = 70\n",
    "batch_size = 100\n",
    "patience = 5\n"
   ]
  },
  {
   "cell_type": "code",
   "execution_count": 4,
   "metadata": {},
   "outputs": [],
   "source": [
    "if dataset_name == 'experimental':\n",
    "    #TO DO: move datasets in the repo and change root_folder\n",
    "\n",
    "    train_ds, val_ds, input_shape, category_count, labels = data_loader(name=dataset_name, root_folder='/home/PERSONALE/nicolas.derus2/HistoDL/datasets/')\n",
    "else:\n",
    "    #TO DO: move datasets in the repo and change root_folder\n",
    "\n",
    "    train_x, test_x, val_x, train_y, test_y, val_y, train_y_one_hot, test_y_one_hot, val_y_one_hot, input_shape, category_count, labels = data_loader(name=dataset_name,\n",
    "                                                                                                                                        root_folder='/home/PERSONALE/nicolas.derus2/HistoDL/datasets/')"
   ]
  },
  {
   "cell_type": "code",
   "execution_count": 5,
   "metadata": {},
   "outputs": [
    {
     "data": {
      "text/plain": [
       "0.0009765625"
      ]
     },
     "execution_count": 5,
     "metadata": {},
     "output_type": "execute_result"
    }
   ],
   "source": [
    "kl_coefficient = (2*input_shape[1]/encoded_dim)**2\n",
    "kl_coefficient"
   ]
  },
  {
   "cell_type": "code",
   "execution_count": null,
   "metadata": {},
   "outputs": [],
   "source": []
  },
  {
   "cell_type": "code",
   "execution_count": 6,
   "metadata": {},
   "outputs": [
    {
     "name": "stdout",
     "output_type": "stream",
     "text": [
      "env: \"WANDB_NOTEBOOK_NAME\"=\"train.ipynb\"\n"
     ]
    }
   ],
   "source": [
    "%env \"WANDB_NOTEBOOK_NAME\" \"train.ipynb\""
   ]
  },
  {
   "cell_type": "code",
   "execution_count": 7,
   "metadata": {},
   "outputs": [
    {
     "name": "stderr",
     "output_type": "stream",
     "text": [
      "Failed to detect the name of this notebook, you can set it manually with the WANDB_NOTEBOOK_NAME environment variable to enable code saving.\n",
      "\u001b[34m\u001b[1mwandb\u001b[0m: Currently logged in as: \u001b[33mnrderus\u001b[0m. Use \u001b[1m`wandb login --relogin`\u001b[0m to force relogin\n"
     ]
    },
    {
     "data": {
      "text/html": [
       "Tracking run with wandb version 0.12.21"
      ],
      "text/plain": [
       "<IPython.core.display.HTML object>"
      ]
     },
     "metadata": {},
     "output_type": "display_data"
    },
    {
     "data": {
      "text/html": [
       "Run data is saved locally in <code>/home/PERSONALE/nicolas.derus2/H-VAE/wandb/run-20220730_001324-225pygq0</code>"
      ],
      "text/plain": [
       "<IPython.core.display.HTML object>"
      ]
     },
     "metadata": {},
     "output_type": "display_data"
    },
    {
     "data": {
      "text/html": [
       "Syncing run <strong><a href=\"https://wandb.ai/nrderus/celeba/runs/225pygq0\" target=\"_blank\">devoted-hill-26</a></strong> to <a href=\"https://wandb.ai/nrderus/celeba\" target=\"_blank\">Weights & Biases</a> (<a href=\"https://wandb.me/run\" target=\"_blank\">docs</a>)<br/>"
      ],
      "text/plain": [
       "<IPython.core.display.HTML object>"
      ]
     },
     "metadata": {},
     "output_type": "display_data"
    },
    {
     "data": {
      "text/html": [
       "<button onClick=\"this.nextSibling.style.display='block';this.style.display='none';\">Display W&B run</button><iframe src=\"https://wandb.ai/nrderus/celeba/runs/225pygq0?jupyter=true\" style=\"border:none;width:100%;height:420px;display:none;\"></iframe>"
      ],
      "text/plain": [
       "<wandb.sdk.wandb_run.Run at 0x7fc7e402b130>"
      ]
     },
     "execution_count": 7,
     "metadata": {},
     "output_type": "execute_result"
    }
   ],
   "source": [
    "\n",
    "wandb.init(project=dataset_name, entity=\"nrderus\",\n",
    "  config = {\n",
    "  \"dataset\": dataset_name,\n",
    "  \"model\": model_name,\n",
    "  \"encoded_dim\": encoded_dim,\n",
    "  \"kl_coefficient\": kl_coefficient,\n",
    "  \"learning_rate\": learning_rate,\n",
    "  \"epochs\": epoch_count,\n",
    "  \"batch_size\": batch_size,\n",
    "  \"patience\": patience,\n",
    "})"
   ]
  },
  {
   "cell_type": "code",
   "execution_count": 8,
   "metadata": {},
   "outputs": [
    {
     "name": "stderr",
     "output_type": "stream",
     "text": [
      "2022-07-30 00:13:29.864099: I tensorflow/core/platform/cpu_feature_guard.cc:151] This TensorFlow binary is optimized with oneAPI Deep Neural Network Library (oneDNN) to use the following CPU instructions in performance-critical operations:  SSE4.1 SSE4.2 AVX AVX2 FMA\n",
      "To enable them in other operations, rebuild TensorFlow with the appropriate compiler flags.\n"
     ]
    },
    {
     "name": "stdout",
     "output_type": "stream",
     "text": [
      "Model: \"encoder\"\n",
      "__________________________________________________________________________________________________\n",
      " Layer (type)                   Output Shape         Param #     Connected to                     \n",
      "==================================================================================================\n",
      " input (InputLayer)             [(None, 64, 64, 43)  0           []                               \n",
      "                                ]                                                                 \n",
      "                                                                                                  \n",
      " layer0 (Sequential)            (None, 64, 64, 16)   6272        ['input[0][0]']                  \n",
      "                                                                                                  \n",
      " layer1 (Sequential)            (None, 64, 64, 16)   2384        ['layer0[0][0]']                 \n",
      "                                                                                                  \n",
      " layer2 (Sequential)            (None, 64, 64, 32)   4768        ['layer1[0][0]']                 \n",
      "                                                                                                  \n",
      " layer3 (Sequential)            (None, 64, 64, 32)   9376        ['layer2[0][0]']                 \n",
      "                                                                                                  \n",
      " layer4 (Sequential)            (None, 32, 32, 64)   58304       ['layer3[0][0]']                 \n",
      "                                                                                                  \n",
      " flatten (Flatten)              (None, 65536)        0           ['layer4[0][0]']                 \n",
      "                                                                                                  \n",
      " encoder_bottleneck (Dense)     (None, 8192)         536879104   ['flatten[0][0]']                \n",
      "                                                                                                  \n",
      " mu (Dense)                     (None, 4096)         33558528    ['encoder_bottleneck[0][0]']     \n",
      "                                                                                                  \n",
      " log_var (Dense)                (None, 4096)         33558528    ['encoder_bottleneck[0][0]']     \n",
      "                                                                                                  \n",
      "==================================================================================================\n",
      "Total params: 604,077,264\n",
      "Trainable params: 604,076,688\n",
      "Non-trainable params: 576\n",
      "__________________________________________________________________________________________________\n"
     ]
    }
   ],
   "source": [
    "if 'resnet' in model_name:\n",
    "    encoder = EncoderMixNet18(encoded_dim = encoded_dim)\n",
    "    encoder = encoder.model(input_shape=(input_shape[0], input_shape[1], input_shape[2] + category_count))\n",
    "\n",
    "else:\n",
    "    encoder = encoderCNN(input_shape, category_count, encoded_dim,  regularizer=regularizers.L2(.001))\n",
    "    encoder = encoder.model(input_shape=(input_shape[0], input_shape[1], input_shape[2] + category_count))\n",
    "\n",
    "encoder.summary()"
   ]
  },
  {
   "cell_type": "code",
   "execution_count": 9,
   "metadata": {},
   "outputs": [
    {
     "name": "stdout",
     "output_type": "stream",
     "text": [
      "Model: \"encoder\"\n",
      "__________________________________________________________________________________________________\n",
      " Layer (type)                   Output Shape         Param #     Connected to                     \n",
      "==================================================================================================\n",
      " input (InputLayer)             [(None, 64, 64, 43)  0           []                               \n",
      "                                ]                                                                 \n",
      "                                                                                                  \n",
      " layer0 (Sequential)            (None, 64, 64, 16)   6272        ['input[0][0]']                  \n",
      "                                                                                                  \n",
      " layer1 (Sequential)            (None, 64, 64, 16)   2384        ['layer0[0][0]']                 \n",
      "                                                                                                  \n",
      " layer2 (Sequential)            (None, 64, 64, 32)   4768        ['layer1[0][0]']                 \n",
      "                                                                                                  \n",
      " layer3 (Sequential)            (None, 64, 64, 32)   9376        ['layer2[0][0]']                 \n",
      "                                                                                                  \n",
      " layer4 (Sequential)            (None, 32, 32, 64)   58304       ['layer3[0][0]']                 \n",
      "                                                                                                  \n",
      " flatten (Flatten)              (None, 65536)        0           ['layer4[0][0]']                 \n",
      "                                                                                                  \n",
      " encoder_bottleneck (Dense)     (None, 8192)         536879104   ['flatten[0][0]']                \n",
      "                                                                                                  \n",
      " mu (Dense)                     (None, 4096)         33558528    ['encoder_bottleneck[0][0]']     \n",
      "                                                                                                  \n",
      " log_var (Dense)                (None, 4096)         33558528    ['encoder_bottleneck[0][0]']     \n",
      "                                                                                                  \n",
      "==================================================================================================\n",
      "Total params: 604,077,264\n",
      "Trainable params: 604,076,688\n",
      "Non-trainable params: 576\n",
      "__________________________________________________________________________________________________\n"
     ]
    }
   ],
   "source": [
    "\n",
    "encoder.summary()"
   ]
  },
  {
   "cell_type": "code",
   "execution_count": 10,
   "metadata": {},
   "outputs": [
    {
     "name": "stdout",
     "output_type": "stream",
     "text": [
      "Model: \"decoder\"\n",
      "_________________________________________________________________\n",
      " Layer (type)                Output Shape              Param #   \n",
      "=================================================================\n",
      " input (InputLayer)          [(None, 4136)]            0         \n",
      "                                                                 \n",
      " pre_reshape (Dense)         (None, 8192)              33890304  \n",
      "                                                                 \n",
      " reshape (Reshape)           (None, 4, 4, 512)         0         \n",
      "                                                                 \n",
      " layer5 (Sequential)         (None, 4, 4, 512)         9445376   \n",
      "                                                                 \n",
      " layer6 (Sequential)         (None, 8, 8, 256)         3085312   \n",
      "                                                                 \n",
      " layer7 (Sequential)         (None, 16, 16, 128)       772608    \n",
      "                                                                 \n",
      " layer8 (Sequential)         (None, 32, 32, 64)        268032    \n",
      "                                                                 \n",
      " layer9 (Sequential)         (None, 32, 32, 64)        37120     \n",
      "                                                                 \n",
      " outputs (Conv2DTranspose)   (None, 64, 64, 3)         771       \n",
      "                                                                 \n",
      "=================================================================\n",
      "Total params: 47,499,523\n",
      "Trainable params: 47,490,563\n",
      "Non-trainable params: 8,960\n",
      "_________________________________________________________________\n"
     ]
    }
   ],
   "source": [
    "if 'resnet' in model_name:\n",
    "    decoder = DecoderResNet18( encoded_dim = encoded_dim, final_stride = 2)\n",
    "    decoder = decoder.model(input_shape=(encoded_dim + category_count,))\n",
    "else:\n",
    "    decoder = decoderCNN(input_shape, category_count, encoded_dim, final_stride = 1, regularizer=regularizers.L2(.001))\n",
    "\n",
    "decoder.summary()"
   ]
  },
  {
   "cell_type": "code",
   "execution_count": 11,
   "metadata": {},
   "outputs": [],
   "source": [
    "try:\n",
    "    resolver = tf.distribute.cluster_resolver.TPUClusterResolver('grpc://' + os.environ['COLAB_TPU_ADDR'])\n",
    "    # This is the TPU initialization code that has to be at the beginning.\n",
    "    tf.tpu.experimental.initialize_tpu_system(resolver)\n",
    "    print(\"All devices: \", tf.config.list_logical_devices('TPU'))\n",
    "\n",
    "    strategy = tf.distribute.experimental.TPUStrategy(resolver)\n",
    "    with strategy.scope():\n",
    "        cvae = CVAE(encoder, decoder, kl_coefficient, input_shape, category_count)\n",
    "        cvae.built = True\n",
    "        cvae_input = cvae.encoder.input[0]\n",
    "        cvae_output = cvae.decoder.output\n",
    "        mu = cvae.encoder.get_layer('mu').output\n",
    "        log_var = cvae.encoder.get_layer('log_var').output\n",
    "\n",
    "        def scheduler(epoch, lr, lr_fac=0.5, lr_epochs=60 ):\n",
    "            return lr * tf.math.pow(lr_fac, tf.math.floor(float(epoch) / float(lr_epochs)))\n",
    "            \n",
    "        opt = keras.optimizers.Adam(learning_rate = learning_rate)\n",
    "        cvae.compile(optimizer = opt, run_eagerly=False)\n",
    "except:\n",
    "    from src.CVAE import CVAE_balancing\n",
    "    cvae = CVAE_balancing(encoder, decoder, kl_coefficient, input_shape, category_count)\n",
    "    cvae.built = True\n",
    "    cvae_input = cvae.encoder.input[0]\n",
    "    cvae_output = cvae.decoder.output\n",
    "    mu = cvae.encoder.get_layer('mu').output\n",
    "    log_var = cvae.encoder.get_layer('log_var').output\n",
    "\n",
    "    def scheduler(epoch, lr, lr_fac=0.5, lr_epochs=60 ):\n",
    "        return lr * tf.math.pow(lr_fac, tf.math.floor(float(epoch) / float(lr_epochs)))\n",
    "    opt = keras.optimizers.Adam(learning_rate = learning_rate)\n",
    "    cvae.compile(optimizer = opt, run_eagerly=False)"
   ]
  },
  {
   "cell_type": "code",
   "execution_count": 12,
   "metadata": {},
   "outputs": [
    {
     "name": "stderr",
     "output_type": "stream",
     "text": [
      "\u001b[34m\u001b[1mwandb\u001b[0m: \u001b[33mWARNING\u001b[0m Unable to compute FLOPs for this model.\n"
     ]
    },
    {
     "name": "stdout",
     "output_type": "stream",
     "text": [
      "Epoch 1/70\n",
      "  18/1000 [..............................] - ETA: 1:06:49 - loss: 16.2692 - reconstruction_loss: 16.2013 - kl_loss: 0.0678 - loss_no_weights: 395.5963"
     ]
    }
   ],
   "source": [
    "# early_stop = keras.callbacks.EarlyStopping(monitor='val_loss',\n",
    "#              patience=patience, restore_best_weights=False)\n",
    "\n",
    "\n",
    "lr_decay = tf.keras.callbacks.LearningRateScheduler(scheduler)\n",
    "\n",
    "history = cvae.fit([train_x, train_y_one_hot],\n",
    "                   validation_data = ([val_x, val_y_one_hot],None),\n",
    "                   epochs = epoch_count,\n",
    "                   batch_size = batch_size,\n",
    "                   callbacks=[lr_decay, WandbCallback(save_model = False) ]) #save_weights_only -> ValueError: Unable to create dataset (name already exists)"
   ]
  },
  {
   "cell_type": "code",
   "execution_count": null,
   "metadata": {},
   "outputs": [],
   "source": [
    "tf.print(cvae.gamma_x)\n"
   ]
  },
  {
   "cell_type": "markdown",
   "metadata": {},
   "source": []
  },
  {
   "cell_type": "code",
   "execution_count": null,
   "metadata": {},
   "outputs": [],
   "source": [
    "#encoder2\n",
    "import keras.layers as layers\n",
    "z_cond = layers.Input(shape=(100 + label_size,), dtype='float32',\n",
    "            name='Input')\n",
    "t = layers.Dense(self.second_dim, name='fc'+'0')(z_cond)\n",
    "t = layers.LeakyReLU(0.2)(t)\n",
    "for i in range(self.second_depth - 1):\n",
    "    t = layers.Dense( self.second_dim, tf.nn.relu, name='fc'+str(i))(t)\n",
    "    t = layers.LeakyReLU(0.2)(t)\n",
    "t = layers.Concatenate(axis=-1)([z_cond, t]) \n",
    "\n",
    "self.u_mean = layers.Dense( self.latent_dim, name='mu_u')(t)\n",
    "self.u_log_var = layers.Dense( self.latent_dim, name='logsd_u')(t)\n",
    "self.u_var = tf.exp(self.u_log_var)\n",
    "#self.u = self.mu_u + self.sd_u * tf.random_normal([self.batch_size, self.latent_dim]) #reparametrizaiton\n",
    "self.u = self.sampling(u_mean, u_log_var, input_label)"
   ]
  },
  {
   "cell_type": "code",
   "execution_count": null,
   "metadata": {},
   "outputs": [],
   "source": [
    "#decoder2\n",
    "\n",
    "u_cond = layers.Input(shape=(100 + label_size,), dtype='float32',\n",
    "            name='Input')\n",
    "\n",
    "u = layers.Dense(self.second_dim, name='fc'+'0')(u_cond)\n",
    "u = layers.LeakyReLU(0.2)(u)\n",
    "\n",
    "for i in range(self.second_depth):\n",
    "    u = layers.Dense( self.second_dim, tf.nn.relu, name='fc'+str(i))(u)\n",
    "    u = layers.LeakyReLU(0.2)(u)\n",
    "\n",
    "u = layers.Concatenate(axis=-1)([u_cond, u]) \n",
    "self.z_hat = layers.Dense(self.latent_dim, name='z_hat')(u)\n"
   ]
  },
  {
   "cell_type": "code",
   "execution_count": null,
   "metadata": {},
   "outputs": [],
   "source": [
    " @tf.function\n",
    "    def train_step(self, data):\n",
    "        if isinstance(data, tuple):\n",
    "            data = data[0]\n",
    "        with tf.GradientTape() as tape:\n",
    "            input_img, input_label, conditional_input = self.conditional_input(data)\n",
    "            z_mean, z_log_var = self.encoder(conditional_input)\n",
    "            z_cond = self.sampling(z_mean, z_log_var, input_label)\n",
    "            reconstruction = self.decoder(z_cond)\n",
    "\n",
    "            reconstruction_loss = tf.reduce_sum(\n",
    "                 keras.losses.MSE(input_img, \n",
    "                                    reconstruction), axis=(1, 2))            \n",
    "            kl_loss = -0.5 * (1 + z_log_var - tf.square(z_mean)\n",
    "                      - tf.exp(z_log_var))\n",
    "\n",
    "            kl_loss = tf.reduce_sum(kl_loss, axis=1) \n",
    "            total_loss_no_weights = reconstruction_loss + kl_loss\n",
    "            total_loss_no_weights = tf.reduce_mean(total_loss_no_weights)\n",
    "            kl_loss = self.beta * kl_loss\n",
    "            HALF_LOG_TWO_PI = tf.constant(0.91893,  dtype=tf.float32)# added\n",
    "            reconstruction_loss = reconstruction_loss / self.gamma_x + self.loggamma_x + HALF_LOG_TWO_PI #added\n",
    "            if self.reconstruction_loss_tracker.result() > 0:\n",
    "                reconstruction_loss = tf.minimum(self.reconstruction_loss_tracker.result(), self.reconstruction_loss_tracker.result()*.99 + reconstruction_loss *.01) #min between cumulated reconstruction loss and this batch.\n",
    "            total_loss = reconstruction_loss + kl_loss\n",
    "            total_loss = tf.reduce_mean(total_loss)\n",
    "\n",
    "        self.gamma_x.assign( tf.sqrt(tf.reduce_mean(reconstruction_loss)))#added\n",
    "        self.loggamma_x.assign( tf.math.log(self.gamma_x)) #ådded\n",
    "\n",
    "        grads = tape.gradient(total_loss, self.trainable_weights)\n",
    "        self.optimizer.apply_gradients(zip(grads, self.trainable_weights))\n",
    "        self.total_loss_tracker.update_state(total_loss)\n",
    "        self.reconstruction_loss_tracker.update_state(reconstruction_loss)\n",
    "        self.kl_loss_tracker.update_state(kl_loss)\n",
    "        self.total_loss_no_weights_tracker.update_state(total_loss_no_weights)\n",
    "        #tf.print(self.gamma_x)\n",
    "        return {\n",
    "            \"loss\": self.total_loss_tracker.result(),\n",
    "            \"reconstruction_loss\": self.reconstruction_loss_tracker.result(),\n",
    "            \"kl_loss\": self.kl_loss_tracker.result(),\n",
    "            \"loss_no_weights\": self.total_loss_no_weights_tracker.result(),\n",
    "\n",
    "        }\n"
   ]
  },
  {
   "cell_type": "code",
   "execution_count": null,
   "metadata": {},
   "outputs": [],
   "source": [
    "# tf.saved_model.save(cvae.encoder, 'cvae_encoder')\n",
    "# tf.saved_model.save(cvae.decoder, 'cvae_decoder')"
   ]
  },
  {
   "cell_type": "code",
   "execution_count": null,
   "metadata": {},
   "outputs": [],
   "source": [
    "_, input_label_train, train_input = cvae.conditional_input([train_x[:1000], train_y_one_hot[:1000]])\n",
    "_, input_label_test, test_input = cvae.conditional_input([test_x[:1000], test_y_one_hot[:1000]])\n",
    "_, input_label_val, val_input = cvae.conditional_input([val_x[:1000], val_y_one_hot[:1000]])\n",
    "\n",
    "train_x_mean, train_log_var = cvae.encoder.predict(train_input)\n",
    "test_x_mean, test_log_var = cvae.encoder.predict(test_input)\n",
    "val_x_mean, val_log_var = cvae.encoder.predict(val_input)"
   ]
  },
  {
   "cell_type": "code",
   "execution_count": null,
   "metadata": {},
   "outputs": [],
   "source": [
    "embedding(encoded_dim, category_count, train_x_mean, test_x_mean, val_x_mean, train_y, test_y, val_y, train_log_var, test_log_var, val_log_var, labels, quantity = 1000, avg_latent=True)"
   ]
  },
  {
   "cell_type": "code",
   "execution_count": null,
   "metadata": {},
   "outputs": [],
   "source": [
    "reconstructions(cvae, train_x, train_y, train_x_mean, train_log_var, input_label_train, labels, set = 'train')"
   ]
  },
  {
   "cell_type": "code",
   "execution_count": null,
   "metadata": {},
   "outputs": [],
   "source": [
    "reconstructions(cvae, test_x, test_y, test_x_mean, test_log_var, input_label_test, labels, set = 'test')"
   ]
  },
  {
   "cell_type": "code",
   "execution_count": null,
   "metadata": {},
   "outputs": [],
   "source": [
    "import importlib\n",
    "import generations\n",
    "importlib.reload(generations)\n",
    "from generations import Generations"
   ]
  },
  {
   "cell_type": "code",
   "execution_count": null,
   "metadata": {},
   "outputs": [],
   "source": [
    "generator = Generations(cvae, encoded_dim, category_count, input_shape, labels)\n",
    "generator()"
   ]
  },
  {
   "cell_type": "code",
   "execution_count": null,
   "metadata": {},
   "outputs": [],
   "source": [
    "\n",
    "activations_encoder = VisualizeActivations(cvae, cvae.encoder, test_x, test_y_one_hot)\n",
    "activations_decoder = VisualizeActivations(cvae, cvae.decoder, test_x, test_y_one_hot)\n",
    "activations_encoder()\n",
    "activations_decoder()"
   ]
  },
  {
   "cell_type": "code",
   "execution_count": null,
   "metadata": {},
   "outputs": [],
   "source": [
    "if 'resnet' in model_name:\n",
    "    target_layer = \"layer4\"\n",
    "else:\n",
    "    target_layer = \"block3_conv2\"\n"
   ]
  },
  {
   "cell_type": "code",
   "execution_count": null,
   "metadata": {},
   "outputs": [],
   "source": [
    "gc = GradCam(cvae, test_x, test_y_one_hot, HQ = True, target_layer = target_layer)\n",
    "gc.gradcam()\n"
   ]
  },
  {
   "cell_type": "code",
   "execution_count": null,
   "metadata": {},
   "outputs": [],
   "source": [
    "gc.guided_gradcam()"
   ]
  },
  {
   "cell_type": "code",
   "execution_count": null,
   "metadata": {},
   "outputs": [],
   "source": [
    "wandb.finish(exit_code=0, quiet = True) "
   ]
  },
  {
   "cell_type": "code",
   "execution_count": null,
   "metadata": {},
   "outputs": [],
   "source": []
  }
 ],
 "metadata": {
  "kernelspec": {
   "display_name": "Python 3.9.13 ('H-VAE')",
   "language": "python",
   "name": "python3"
  },
  "language_info": {
   "codemirror_mode": {
    "name": "ipython",
    "version": 3
   },
   "file_extension": ".py",
   "mimetype": "text/x-python",
   "name": "python",
   "nbconvert_exporter": "python",
   "pygments_lexer": "ipython3",
   "version": "3.9.13"
  },
  "orig_nbformat": 4,
  "vscode": {
   "interpreter": {
    "hash": "5f1607b5c7637eeb63c336da9ec51a12a91ceb8ce0c928f22804c46ad3bcc7ae"
   }
  }
 },
 "nbformat": 4,
 "nbformat_minor": 2
}
