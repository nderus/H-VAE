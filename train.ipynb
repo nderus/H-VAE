{
 "cells": [
  {
   "cell_type": "code",
   "execution_count": 1,
   "metadata": {},
   "outputs": [],
   "source": [
    "import os\n",
    "from tensorflow import keras\n",
    "import tensorflow as tf\n",
    "from tensorflow.keras import backend\n",
    "import wandb\n",
    "from wandb.keras import WandbCallback\n",
    "from tensorflow.keras import regularizers\n"
   ]
  },
  {
   "cell_type": "code",
   "execution_count": 2,
   "metadata": {},
   "outputs": [],
   "source": [
    "from encoders import EncoderResNet18, EncoderResNet34, EncoderResNet50, encoderCNN, EncoderMixNet18\n",
    "from decoders import DecoderResNet18, DecoderResNet34, DecoderResNet50, decoderCNN\n",
    "from datasets import data_loader\n",
    "from embeddings import embedding\n",
    "from reconstructions import reconstructions\n",
    "from generations import Generations\n",
    "from activations import VisualizeActivations\n",
    "from gradcam import GradCam\n",
    "from src.CVAE import CVAE\n",
    "\n",
    "# import importlib\n",
    "# importlib.reload(embeddings)\n",
    "# from embeddings import embedding\n",
    "\n",
    "backend.clear_session()"
   ]
  },
  {
   "cell_type": "code",
   "execution_count": 3,
   "metadata": {},
   "outputs": [],
   "source": [
    "# TO DO: this should be passed as arguments\n",
    "dataset_name = 'mnist'\n",
    "model_name = 'CVAE'\n",
    "kl_coefficient = .03\n",
    "encoded_dim = 2\n",
    "learning_rate = 0.0001 \n",
    "epoch_count = 100\n",
    "batch_size = 100\n",
    "patience = 5"
   ]
  },
  {
   "cell_type": "code",
   "execution_count": 4,
   "metadata": {},
   "outputs": [],
   "source": [
    "if dataset_name == 'experimental':\n",
    "    #TO DO: move datasets in the repo and change root_folder\n",
    "\n",
    "    train_ds, val_ds, input_shape, category_count, labels = data_loader(name=dataset_name, root_folder='/home/PERSONALE/nicolas.derus2/HistoDL/datasets/')\n",
    "else:\n",
    "    #TO DO: move datasets in the repo and change root_folder\n",
    "\n",
    "    train_x, test_x, val_x, train_y, test_y, val_y, train_y_one_hot, test_y_one_hot, val_y_one_hot, input_shape, category_count, labels = data_loader(name=dataset_name,\n",
    "                                                                                                                                        root_folder='/home/PERSONALE/nicolas.derus2/HistoDL/datasets/')"
   ]
  },
  {
   "cell_type": "code",
   "execution_count": 5,
   "metadata": {},
   "outputs": [
    {
     "data": {
      "text/plain": [
       "(50000, 28, 28, 1)"
      ]
     },
     "execution_count": 5,
     "metadata": {},
     "output_type": "execute_result"
    }
   ],
   "source": [
    "train_x.shape"
   ]
  },
  {
   "cell_type": "code",
   "execution_count": 6,
   "metadata": {},
   "outputs": [
    {
     "name": "stdout",
     "output_type": "stream",
     "text": [
      "env: \"WANDB_NOTEBOOK_NAME\"=\"train.ipynb\"\n"
     ]
    }
   ],
   "source": [
    "%env \"WANDB_NOTEBOOK_NAME\" \"train.ipynb\""
   ]
  },
  {
   "cell_type": "code",
   "execution_count": 7,
   "metadata": {},
   "outputs": [],
   "source": [
    "\n",
    "# wandb.init(project=\"H-VAE\", entity=\"nrderus\",\n",
    "#   config = {\n",
    "#   \"dataset\": dataset_name,\n",
    "#   \"model\": model_name,\n",
    "#   \"encoded_dim\": encoded_dim,\n",
    "#   \"kl_coefficient\": kl_coefficient,\n",
    "#   \"learning_rate\": learning_rate,\n",
    "#   \"epochs\": epoch_count,\n",
    "#   \"batch_size\": batch_size,\n",
    "#   \"patience\": patience,\n",
    "# })"
   ]
  },
  {
   "cell_type": "code",
   "execution_count": 8,
   "metadata": {},
   "outputs": [
    {
     "name": "stdout",
     "output_type": "stream",
     "text": [
      "Model: \"encoder\"\n",
      "__________________________________________________________________________________________________\n",
      " Layer (type)                   Output Shape         Param #     Connected to                     \n",
      "==================================================================================================\n",
      " Input (InputLayer)             [(None, 28, 28, 11)  0           []                               \n",
      "                                ]                                                                 \n",
      "                                                                                                  \n",
      " block1_conv1 (Conv2D)          (None, 28, 28, 16)   1600        ['Input[0][0]']                  \n",
      "                                                                                                  \n",
      " block1_conv2 (Conv2D)          (None, 28, 28, 16)   2320        ['block1_conv1[0][0]']           \n",
      "                                                                                                  \n",
      " batch_normalization (BatchNorm  (None, 28, 28, 16)  64          ['block1_conv2[0][0]']           \n",
      " alization)                                                                                       \n",
      "                                                                                                  \n",
      " leaky_re_lu (LeakyReLU)        (None, 28, 28, 16)   0           ['batch_normalization[0][0]']    \n",
      "                                                                                                  \n",
      " block2_conv1 (Conv2D)          (None, 28, 28, 32)   4640        ['leaky_re_lu[0][0]']            \n",
      "                                                                                                  \n",
      " block2_conv2 (Conv2D)          (None, 28, 28, 32)   9248        ['block2_conv1[0][0]']           \n",
      "                                                                                                  \n",
      " batch_normalization_1 (BatchNo  (None, 28, 28, 32)  128         ['block2_conv2[0][0]']           \n",
      " rmalization)                                                                                     \n",
      "                                                                                                  \n",
      " leaky_re_lu_1 (LeakyReLU)      (None, 28, 28, 32)   0           ['batch_normalization_1[0][0]']  \n",
      "                                                                                                  \n",
      " S4 (MaxPooling2D)              (None, 14, 14, 32)   0           ['leaky_re_lu_1[0][0]']          \n",
      "                                                                                                  \n",
      " block3_conv1 (Conv2D)          (None, 14, 14, 64)   18496       ['S4[0][0]']                     \n",
      "                                                                                                  \n",
      " block3_conv2 (Conv2D)          (None, 14, 14, 64)   36928       ['block3_conv1[0][0]']           \n",
      "                                                                                                  \n",
      " batch_normalization_2 (BatchNo  (None, 14, 14, 64)  256         ['block3_conv2[0][0]']           \n",
      " rmalization)                                                                                     \n",
      "                                                                                                  \n",
      " leaky_re_lu_2 (LeakyReLU)      (None, 14, 14, 64)   0           ['batch_normalization_2[0][0]']  \n",
      "                                                                                                  \n",
      " flatten (Flatten)              (None, 12544)        0           ['leaky_re_lu_2[0][0]']          \n",
      "                                                                                                  \n",
      " dense (Dense)                  (None, 2)            25090       ['flatten[0][0]']                \n",
      "                                                                                                  \n",
      " mu (Dense)                     (None, 2)            6           ['dense[0][0]']                  \n",
      "                                                                                                  \n",
      " log_var (Dense)                (None, 2)            6           ['dense[0][0]']                  \n",
      "                                                                                                  \n",
      "==================================================================================================\n",
      "Total params: 98,782\n",
      "Trainable params: 98,558\n",
      "Non-trainable params: 224\n",
      "__________________________________________________________________________________________________\n"
     ]
    },
    {
     "name": "stderr",
     "output_type": "stream",
     "text": [
      "2022-07-25 23:52:07.421633: I tensorflow/core/platform/cpu_feature_guard.cc:151] This TensorFlow binary is optimized with oneAPI Deep Neural Network Library (oneDNN) to use the following CPU instructions in performance-critical operations:  SSE4.1 SSE4.2 AVX AVX2 FMA\n",
      "To enable them in other operations, rebuild TensorFlow with the appropriate compiler flags.\n"
     ]
    }
   ],
   "source": [
    "if 'resnet' in model_name:\n",
    "    encoder = EncoderMixNet18(encoded_dim = encoded_dim)\n",
    "    encoder = encoder.model(input_shape=(input_shape[0], input_shape[1], input_shape[2] + category_count))\n",
    "else:\n",
    "    encoder = encoderCNN(input_shape, category_count, encoded_dim,  regularizer=regularizers.L2(.001))\n",
    "\n",
    "encoder.summary()"
   ]
  },
  {
   "cell_type": "code",
   "execution_count": 9,
   "metadata": {},
   "outputs": [
    {
     "name": "stdout",
     "output_type": "stream",
     "text": [
      "Model: \"encoder\"\n",
      "__________________________________________________________________________________________________\n",
      " Layer (type)                   Output Shape         Param #     Connected to                     \n",
      "==================================================================================================\n",
      " input (InputLayer)             [(None, 28, 28, 11)  0           []                               \n",
      "                                ]                                                                 \n",
      "                                                                                                  \n",
      " layer0 (Sequential)            (None, 28, 28, 16)   1664        ['input[0][0]']                  \n",
      "                                                                                                  \n",
      " layer1 (Sequential)            (None, 28, 28, 16)   2384        ['layer0[0][0]']                 \n",
      "                                                                                                  \n",
      " layer2 (Sequential)            (None, 28, 28, 32)   4768        ['layer1[0][0]']                 \n",
      "                                                                                                  \n",
      " layer3 (Sequential)            (None, 28, 28, 32)   9376        ['layer2[0][0]']                 \n",
      "                                                                                                  \n",
      " layer4 (Sequential)            (None, 14, 14, 64)   58304       ['layer3[0][0]']                 \n",
      "                                                                                                  \n",
      " flatten (Flatten)              (None, 12544)        0           ['layer4[0][0]']                 \n",
      "                                                                                                  \n",
      " encoder_bottleneck (Dense)     (None, 4)            50180       ['flatten[0][0]']                \n",
      "                                                                                                  \n",
      " mu (Dense)                     (None, 2)            10          ['encoder_bottleneck[0][0]']     \n",
      "                                                                                                  \n",
      " log_var (Dense)                (None, 2)            10          ['encoder_bottleneck[0][0]']     \n",
      "                                                                                                  \n",
      "==================================================================================================\n",
      "Total params: 126,696\n",
      "Trainable params: 126,120\n",
      "Non-trainable params: 576\n",
      "__________________________________________________________________________________________________\n"
     ]
    }
   ],
   "source": [
    "encoder = EncoderMixNet18(encoded_dim = encoded_dim)\n",
    "encoder = encoder.model(input_shape=(input_shape[0], input_shape[1], input_shape[2] + category_count))\n",
    "encoder.summary()"
   ]
  },
  {
   "cell_type": "code",
   "execution_count": null,
   "metadata": {},
   "outputs": [],
   "source": [
    "if 'resnet' in model_name:\n",
    "    decoder = DecoderResNet18( encoded_dim = encoded_dim, final_stride = 2)\n",
    "    decoder = decoder.model(input_shape=(encoded_dim + category_count,))\n",
    "else:\n",
    "    decoder = decoderCNN(input_shape, category_count, encoded_dim, final_stride = 1, regularizer=regularizers.L2(.001))\n",
    "\n",
    "decoder.summary()"
   ]
  },
  {
   "cell_type": "code",
   "execution_count": null,
   "metadata": {},
   "outputs": [],
   "source": [
    "try:\n",
    "    resolver = tf.distribute.cluster_resolver.TPUClusterResolver('grpc://' + os.environ['COLAB_TPU_ADDR'])\n",
    "    # This is the TPU initialization code that has to be at the beginning.\n",
    "    tf.tpu.experimental.initialize_tpu_system(resolver)\n",
    "    print(\"All devices: \", tf.config.list_logical_devices('TPU'))\n",
    "\n",
    "    strategy = tf.distribute.experimental.TPUStrategy(resolver)\n",
    "    with strategy.scope():\n",
    "        cvae = CVAE(encoder, decoder, kl_coefficient, input_shape, category_count)\n",
    "        cvae.built = True\n",
    "        cvae_input = cvae.encoder.input[0]\n",
    "        cvae_output = cvae.decoder.output\n",
    "        mu = cvae.encoder.get_layer('mu').output\n",
    "        log_var = cvae.encoder.get_layer('log_var').output\n",
    "\n",
    "        def scheduler(epoch, lr):\n",
    "            if epoch < 30:\n",
    "                return lr\n",
    "            else:\n",
    "                return lr * tf.math.exp(-0.1)\n",
    "            \n",
    "        opt = keras.optimizers.Adam(learning_rate = learning_rate)\n",
    "        cvae.compile(optimizer = opt, run_eagerly=False)\n",
    "except:\n",
    "    \n",
    "    cvae = CVAE(encoder, decoder, kl_coefficient, input_shape, category_count)\n",
    "    cvae.built = True\n",
    "    cvae_input = cvae.encoder.input[0]\n",
    "    cvae_output = cvae.decoder.output\n",
    "    mu = cvae.encoder.get_layer('mu').output\n",
    "    log_var = cvae.encoder.get_layer('log_var').output\n",
    "\n",
    "    def scheduler(epoch, lr):\n",
    "        if epoch < 30:\n",
    "            return lr\n",
    "        else:\n",
    "            return lr * tf.math.exp(-0.1)\n",
    "    opt = keras.optimizers.Adam(learning_rate = learning_rate)\n",
    "    cvae.compile(optimizer = opt, run_eagerly=False)"
   ]
  },
  {
   "cell_type": "code",
   "execution_count": null,
   "metadata": {},
   "outputs": [],
   "source": []
  },
  {
   "cell_type": "code",
   "execution_count": null,
   "metadata": {},
   "outputs": [],
   "source": [
    "early_stop = keras.callbacks.EarlyStopping(monitor='val_loss',\n",
    "             patience=patience, restore_best_weights=False)\n",
    "\n",
    "\n",
    "# lr_decay = tf.keras.callbacks.LearningRateScheduler(\n",
    "#     lambda epoch: learning_rate * learning_rate_exp_decay**epoch,\n",
    "#     verbose=True)\n",
    "\n",
    "history = cvae.fit([train_x, train_y_one_hot],\n",
    "                   validation_data = ([val_x, val_y_one_hot],None),\n",
    "                   epochs = epoch_count,\n",
    "                   batch_size = batch_size,\n",
    "                   callbacks=[early_stop, WandbCallback(save_model = False) ]) #save_weights_only -> ValueError: Unable to create dataset (name already exists)"
   ]
  },
  {
   "cell_type": "code",
   "execution_count": null,
   "metadata": {},
   "outputs": [],
   "source": [
    "tf.saved_model.save(cvae.encoder, 'cvae_encoder')\n",
    "tf.saved_model.save(cvae.decoder, 'cvae_decoder')"
   ]
  },
  {
   "cell_type": "code",
   "execution_count": null,
   "metadata": {},
   "outputs": [],
   "source": [
    "_, input_label_train, train_input = cvae.conditional_input([train_x[:1000], train_y_one_hot[:1000]])\n",
    "_, input_label_test, test_input = cvae.conditional_input([test_x[:1000], test_y_one_hot[:1000]])\n",
    "_, input_label_val, val_input = cvae.conditional_input([val_x[:1000], val_y_one_hot[:1000]])\n",
    "\n",
    "train_x_mean, train_log_var = cvae.encoder.predict(train_input)\n",
    "test_x_mean, test_log_var = cvae.encoder.predict(test_input)\n",
    "val_x_mean, val_log_var = cvae.encoder.predict(val_input)"
   ]
  },
  {
   "cell_type": "code",
   "execution_count": null,
   "metadata": {},
   "outputs": [],
   "source": [
    "embedding(encoded_dim, category_count, train_x_mean, test_x_mean, val_x_mean, train_y, test_y, val_y, train_log_var, test_log_var, val_log_var, labels, quantity = 1000, avg_latent=True)"
   ]
  },
  {
   "cell_type": "code",
   "execution_count": null,
   "metadata": {},
   "outputs": [],
   "source": [
    "reconstructions(cvae, train_x, train_y, train_x_mean, train_log_var, input_label_train, labels, set = 'train')"
   ]
  },
  {
   "cell_type": "code",
   "execution_count": null,
   "metadata": {},
   "outputs": [],
   "source": [
    "reconstructions(cvae, test_x, test_y, test_x_mean, test_log_var, input_label_test, labels, set = 'test')"
   ]
  },
  {
   "cell_type": "code",
   "execution_count": null,
   "metadata": {},
   "outputs": [],
   "source": [
    "generator = Generations(cvae, encoded_dim, category_count, input_shape, labels)\n",
    "generator()"
   ]
  },
  {
   "cell_type": "code",
   "execution_count": null,
   "metadata": {},
   "outputs": [],
   "source": [
    "\n",
    "activations_encoder = VisualizeActivations(cvae, cvae.encoder, test_x, test_y_one_hot)\n",
    "activations_decoder = VisualizeActivations(cvae, cvae.decoder, test_x, test_y_one_hot)\n",
    "activations_encoder()\n",
    "activations_decoder()"
   ]
  },
  {
   "cell_type": "code",
   "execution_count": null,
   "metadata": {},
   "outputs": [],
   "source": [
    "if 'resnet' in model_name:\n",
    "    target_layer = \"layer4\"\n",
    "else:\n",
    "    target_layer = \"block3_conv2\"\n"
   ]
  },
  {
   "cell_type": "code",
   "execution_count": null,
   "metadata": {},
   "outputs": [],
   "source": [
    "gc = GradCam(cvae, test_x, test_y_one_hot, HQ = True, target_layer = target_layer)\n",
    "gc.gradcam()\n"
   ]
  },
  {
   "cell_type": "code",
   "execution_count": null,
   "metadata": {},
   "outputs": [],
   "source": [
    "gc.guided_gradcam()"
   ]
  },
  {
   "cell_type": "code",
   "execution_count": null,
   "metadata": {},
   "outputs": [],
   "source": [
    "wandb.finish(exit_code=0, quiet = True) "
   ]
  },
  {
   "cell_type": "code",
   "execution_count": null,
   "metadata": {},
   "outputs": [],
   "source": []
  }
 ],
 "metadata": {
  "kernelspec": {
   "display_name": "Python 3.9.13 ('H-VAE')",
   "language": "python",
   "name": "python3"
  },
  "language_info": {
   "codemirror_mode": {
    "name": "ipython",
    "version": 3
   },
   "file_extension": ".py",
   "mimetype": "text/x-python",
   "name": "python",
   "nbconvert_exporter": "python",
   "pygments_lexer": "ipython3",
   "version": "3.9.13"
  },
  "orig_nbformat": 4,
  "vscode": {
   "interpreter": {
    "hash": "5f1607b5c7637eeb63c336da9ec51a12a91ceb8ce0c928f22804c46ad3bcc7ae"
   }
  }
 },
 "nbformat": 4,
 "nbformat_minor": 2
}
