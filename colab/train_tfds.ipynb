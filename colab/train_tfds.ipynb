{
 "cells": [
  {
   "cell_type": "code",
   "execution_count": null,
   "metadata": {},
   "outputs": [],
   "source": [
    "import os\n",
    "from tensorflow import keras\n",
    "import tensorflow as tf\n",
    "from tensorflow.keras import backend\n",
    "import wandb\n",
    "from wandb.keras import WandbCallback"
   ]
  },
  {
   "cell_type": "code",
   "execution_count": null,
   "metadata": {},
   "outputs": [],
   "source": [
    "from encoders import EncoderResNet18, encoderCNN\n",
    "from decoders import DecoderResNet18, decoderCNN\n",
    "from datasets import data_loader\n",
    "from embeddings import embedding\n",
    "from reconstructions import reconstructions\n",
    "from generations import Generations\n",
    "from activations import VisualizeActivations\n",
    "from src.CVAE import CVAE\n",
    "\n",
    "backend.clear_session()"
   ]
  },
  {
   "cell_type": "code",
   "execution_count": null,
   "metadata": {},
   "outputs": [],
   "source": [
    "# TO DO: this should be passed as arguments\n",
    "dataset_name = 'experimental'\n",
    "model_name = 'CVAE'\n",
    "kl_coefficient = .01\n",
    "encoded_dim = 640\n",
    "learning_rate = 0.0001 \n",
    "epoch_count = 100\n",
    "batch_size = 100\n",
    "patience = 5"
   ]
  },
  {
   "cell_type": "code",
   "execution_count": null,
   "metadata": {},
   "outputs": [],
   "source": [
    "if dataset_name == 'experimental':\n",
    "    #TO DO: move datasets in the repo and change root_folder\n",
    "\n",
    "    train_ds, val_ds, input_shape, category_count, labels = data_loader(name=dataset_name, root_folder='/home/PERSONALE/nicolas.derus2/HistoDL/datasets/')\n",
    "else:\n",
    "    #TO DO: move datasets in the repo and change root_folder\n",
    "\n",
    "    train_x, test_x, val_x, train_y, test_y, val_y, train_y_one_hot, test_y_one_hot, val_y_one_hot, input_shape, category_count, labels = data_loader(name=dataset_name,\n",
    "                                                                                                                                        root_folder='/home/PERSONALE/nicolas.derus2/HistoDL/datasets/')"
   ]
  },
  {
   "cell_type": "code",
   "execution_count": null,
   "metadata": {},
   "outputs": [],
   "source": []
  },
  {
   "cell_type": "code",
   "execution_count": null,
   "metadata": {},
   "outputs": [],
   "source": [
    "\n",
    "wandb.init(project=\"HistoDL\", entity=\"nrderus\",\n",
    "  config = {\n",
    "  \"dataset\": dataset_name,\n",
    "  \"model\": model_name,\n",
    "  \"encoded_dim\": encoded_dim,\n",
    "  \"kl_coefficient\": kl_coefficient,\n",
    "  \"learning_rate\": learning_rate,\n",
    "  \"epochs\": epoch_count,\n",
    "  \"batch_size\": batch_size,\n",
    "  \"patience\": patience,\n",
    "})"
   ]
  },
  {
   "cell_type": "code",
   "execution_count": null,
   "metadata": {},
   "outputs": [],
   "source": []
  },
  {
   "cell_type": "code",
   "execution_count": null,
   "metadata": {},
   "outputs": [],
   "source": [
    "if 'resnet' in model_name:\n",
    "    encoder = EncoderResNet18(encoded_dim = encoded_dim)\n",
    "    encoder = encoder.model(input_shape=(input_shape[0], input_shape[1], input_shape[2] + category_count))\n",
    "else:\n",
    "    encoder = encoderCNN(input_shape, category_count, encoded_dim)\n",
    "\n",
    "encoder"
   ]
  },
  {
   "cell_type": "code",
   "execution_count": null,
   "metadata": {},
   "outputs": [],
   "source": [
    "if 'resnet' in model_name:\n",
    "    decoder = DecoderResNet18( encoded_dim = encoded_dim, final_stride = 2)\n",
    "    decoder = decoder.model(input_shape=(encoded_dim + category_count,))\n",
    "else:\n",
    "    decoder = decoderCNN(input_shape, category_count, encoded_dim, final_stride = 1)\n",
    "\n",
    "decoder.summary()"
   ]
  },
  {
   "cell_type": "code",
   "execution_count": null,
   "metadata": {},
   "outputs": [],
   "source": [
    "try:\n",
    "    resolver = tf.distribute.cluster_resolver.TPUClusterResolver('grpc://' + os.environ['COLAB_TPU_ADDR'])\n",
    "    # This is the TPU initialization code that has to be at the beginning.\n",
    "    tf.tpu.experimental.initialize_tpu_system(resolver)\n",
    "    print(\"All devices: \", tf.config.list_logical_devices('TPU'))\n",
    "\n",
    "    strategy = tf.distribute.experimental.TPUStrategy(resolver)\n",
    "    with strategy.scope():\n",
    "        cvae = CVAE(encoder, decoder, kl_coefficient, input_shape, category_count)\n",
    "        cvae.built = True\n",
    "        cvae_input = cvae.encoder.input[0]\n",
    "        cvae_output = cvae.decoder.output\n",
    "        mu = cvae.encoder.get_layer('mu').output\n",
    "        log_var = cvae.encoder.get_layer('log_var').output\n",
    "\n",
    "        opt = keras.optimizers.Adam(learning_rate = learning_rate)\n",
    "        cvae.compile(optimizer = opt, run_eagerly=False)\n",
    "except:\n",
    "    cvae = CVAE(encoder, decoder, kl_coefficient, input_shape, category_count)\n",
    "    cvae.built = True\n",
    "    cvae_input = cvae.encoder.input[0]\n",
    "    cvae_output = cvae.decoder.output\n",
    "    mu = cvae.encoder.get_layer('mu').output\n",
    "    log_var = cvae.encoder.get_layer('log_var').output\n",
    "\n",
    "\n",
    "    opt = keras.optimizers.Adam(learning_rate = learning_rate)\n",
    "    cvae.compile(optimizer = opt, run_eagerly=False)"
   ]
  },
  {
   "cell_type": "code",
   "execution_count": null,
   "metadata": {},
   "outputs": [],
   "source": [
    "steps_per_epoch = 60000/batch_size  # 60,000 items in this dataset\n",
    "print(\"Steps per epoch: \", steps_per_epoch)"
   ]
  },
  {
   "cell_type": "code",
   "execution_count": null,
   "metadata": {},
   "outputs": [],
   "source": [
    "for x, y in val_ds:\n",
    "    print(x.shape)\n",
    "    print(y.shape)\n",
    "    break\n"
   ]
  },
  {
   "cell_type": "code",
   "execution_count": null,
   "metadata": {},
   "outputs": [],
   "source": [
    "early_stop = keras.callbacks.EarlyStopping(monitor='val_loss',\n",
    "             patience=patience, restore_best_weights=False)\n",
    "\n",
    "history = cvae.fit(train_ds,\n",
    "                   validation_data = (val_ds,None),\n",
    "                   epochs = epoch_count,\n",
    "                    steps_per_epoch = steps_per_epoch,\n",
    "                   batch_size = batch_size,\n",
    "                   callbacks=[early_stop, WandbCallback(save_model = False) ]) #save_weights_only -> ValueError: Unable to create dataset (name already exists)"
   ]
  },
  {
   "cell_type": "code",
   "execution_count": null,
   "metadata": {},
   "outputs": [],
   "source": [
    "_, input_label_train, train_input = cvae.conditional_input([train_x[:1000], train_y_one_hot[:1000]])\n",
    "_, input_label_test, test_input = cvae.conditional_input([test_x[:1000], test_y_one_hot[:1000]])\n",
    "_, input_label_val, val_input = cvae.conditional_input([val_x[:1000], val_y_one_hot[:1000]])\n",
    "\n",
    "train_x_mean, train_log_var = cvae.encoder.predict(train_input)\n",
    "test_x_mean, test_log_var = cvae.encoder.predict(test_input)\n",
    "val_x_mean, val_log_var = cvae.encoder.predict(val_input)"
   ]
  },
  {
   "cell_type": "code",
   "execution_count": null,
   "metadata": {},
   "outputs": [],
   "source": [
    "embedding(encoded_dim, category_count, train_x_mean, test_x_mean, val_x_mean, train_y, test_y, val_y, train_log_var, test_log_var, val_log_var, labels, xy_lim = 80, quantity = 1000, avg_latent=True)"
   ]
  },
  {
   "cell_type": "code",
   "execution_count": null,
   "metadata": {},
   "outputs": [],
   "source": [
    "reconstructions(cvae, train_x, train_y, train_x_mean, train_log_var, input_label_train, labels)"
   ]
  },
  {
   "cell_type": "code",
   "execution_count": null,
   "metadata": {},
   "outputs": [],
   "source": [
    "generator = Generations(cvae, encoded_dim, category_count, input_shape, labels)\n",
    "generator()"
   ]
  },
  {
   "cell_type": "code",
   "execution_count": null,
   "metadata": {},
   "outputs": [],
   "source": [
    "\n",
    "activations_encoder = VisualizeActivations(cvae, cvae.encoder, test_x, test_y_one_hot)\n",
    "activations_decoder= VisualizeActivations(cvae, cvae.decoder, test_x, test_y_one_hot)\n",
    "activations_encoder()\n",
    "activations_decoder()"
   ]
  },
  {
   "cell_type": "code",
   "execution_count": null,
   "metadata": {},
   "outputs": [],
   "source": [
    "wandb.finish(exit_code=0, quiet = True) "
   ]
  },
  {
   "cell_type": "code",
   "execution_count": 21,
   "metadata": {},
   "outputs": [
    {
     "name": "stderr",
     "output_type": "stream",
     "text": [
      "/home/PERSONALE/nicolas.derus2/miniconda3/envs/H-VAE/lib/python3.9/site-packages/sklearn/linear_model/_sag.py:350: ConvergenceWarning: The max_iter was reached which means the coef_ did not converge\n",
      "  warnings.warn(\n"
     ]
    },
    {
     "data": {
      "text/plain": [
       "array([0, 0])"
      ]
     },
     "execution_count": 21,
     "metadata": {},
     "output_type": "execute_result"
    }
   ],
   "source": [
    "from sklearn.datasets import load_iris\n",
    "from sklearn.linear_model import LogisticRegression\n",
    "from sklearn.linear_model import ElasticNetCV\n",
    "X, y = load_iris(return_X_y=True)\n",
    "clf = LogisticRegression(random_state=0, penalty='l1', solver = 'saga').fit(X, y)\n",
    "clf.predict(X[:2, :])\n"
   ]
  },
  {
   "cell_type": "code",
   "execution_count": 13,
   "metadata": {},
   "outputs": [
    {
     "name": "stderr",
     "output_type": "stream",
     "text": [
      "/home/PERSONALE/nicolas.derus2/miniconda3/envs/H-VAE/lib/python3.9/site-packages/sklearn/linear_model/_logistic.py:444: ConvergenceWarning: lbfgs failed to converge (status=1):\n",
      "STOP: TOTAL NO. of ITERATIONS REACHED LIMIT.\n",
      "\n",
      "Increase the number of iterations (max_iter) or scale the data as shown in:\n",
      "    https://scikit-learn.org/stable/modules/preprocessing.html\n",
      "Please also refer to the documentation for alternative solver options:\n",
      "    https://scikit-learn.org/stable/modules/linear_model.html#logistic-regression\n",
      "  n_iter_i = _check_optimize_result(\n"
     ]
    }
   ],
   "source": [
    "from sklearn.model_selection import cross_val_score\n",
    "\n",
    "scores = cross_val_score(clf, X, y, cv=5)"
   ]
  },
  {
   "cell_type": "code",
   "execution_count": 17,
   "metadata": {},
   "outputs": [
    {
     "data": {
      "text/plain": [
       "'l2'"
      ]
     },
     "execution_count": 17,
     "metadata": {},
     "output_type": "execute_result"
    }
   ],
   "source": [
    "clf.penalty"
   ]
  },
  {
   "cell_type": "code",
   "execution_count": null,
   "metadata": {},
   "outputs": [],
   "source": []
  }
 ],
 "metadata": {
  "kernelspec": {
   "display_name": "Python 3",
   "language": "python",
   "name": "python3"
  },
  "language_info": {
   "codemirror_mode": {
    "name": "ipython",
    "version": 3
   },
   "file_extension": ".py",
   "mimetype": "text/x-python",
   "name": "python",
   "nbconvert_exporter": "python",
   "pygments_lexer": "ipython3",
   "version": "3.7.3"
  },
  "orig_nbformat": 4,
  "vscode": {
   "interpreter": {
    "hash": "31f2aee4e71d21fbe5cf8b01ff0e069b9275f58929596ceb00d14d90e3e16cd6"
   }
  }
 },
 "nbformat": 4,
 "nbformat_minor": 2
}
